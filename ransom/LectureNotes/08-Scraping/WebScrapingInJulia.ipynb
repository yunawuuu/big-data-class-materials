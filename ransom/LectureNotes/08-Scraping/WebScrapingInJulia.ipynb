{
 "cells": [
  {
   "cell_type": "markdown",
   "metadata": {},
   "source": [
    "# Web Scraping in Julia\n",
    "\n",
    "This notebook will show how to do web scraping in Julia. It piggybacks off of existing identical notebooks in R and Python (see [here](https://github.com/tyleransom/DScourseS18/blob/master/WebData/TrumpLies.Rmd) for R and [here](https://github.com/justmarkham/trump-lies/blob/master/trump_lies.ipynb) for Python). The task at hand is to scrape \"lies\" and \"explanations\" from a *New York Times* article that evaluates President Trump's statements during the first 10 months of his presidency.\n",
    "\n",
    "A screenshot of the text we're interested in scraping is below:\n",
    "\n",
    "![figure](images/trumpLies.png)\n",
    "\n",
    "## Load required packages\n",
    "To start, we're going to need the following packages:"
   ]
  },
  {
   "cell_type": "code",
   "execution_count": 43,
   "metadata": {},
   "outputs": [],
   "source": [
    "using Cascadia\n",
    "using Gumbo\n",
    "using Requests\n",
    "using DataFrames"
   ]
  },
  {
   "cell_type": "markdown",
   "metadata": {},
   "source": [
    "A quick primer on what these packages are used for:\n",
    "\n",
    "* **Cascadia** is a package for selecting CSS tags\n",
    "* **Gumbo** is a package for parsing HTML files\n",
    "* **Requests** is a package for downloading webpages and storing them as text\n",
    "* **DataFrames** is the package that allows us to store arrays of numbers or strings as data frames\n",
    "\n",
    "## Begin scraping!\n",
    "\n",
    "Now let's scrape the [webpage we're interested in](https://www.nytimes.com/interactive/2017/06/23/opinion/trumps-lies.html)!"
   ]
  },
  {
   "cell_type": "code",
   "execution_count": 44,
   "metadata": {},
   "outputs": [],
   "source": [
    "r = get(\"https://www.nytimes.com/interactive/2017/06/23/opinion/trumps-lies.html\");\n",
    "webpage = parsehtml(convert(String, r.data));"
   ]
  },
  {
   "cell_type": "markdown",
   "metadata": {},
   "source": [
    "Let's check now and see what types of objects these are:"
   ]
  },
  {
   "cell_type": "code",
   "execution_count": 45,
   "metadata": {},
   "outputs": [
    {
     "name": "stdout",
     "output_type": "stream",
     "text": [
      "HttpCommon.Response\n",
      "Gumbo.HTMLDocument\n"
     ]
    }
   ],
   "source": [
    "println(typeof(r))\n",
    "println(typeof(webpage))"
   ]
  },
  {
   "cell_type": "markdown",
   "metadata": {},
   "source": [
    "So we see that the output of `get()` from the Requests package is something called an `HttpCommon.Response` and once we convert the data field of that object (`r.data`) to a string and parse it as HTML, the resulting object is a `Gumbo.HTMLDocument`.\n",
    "\n",
    "**Types** are the fundamental units of the Julia ecosystem, so it's always important to know what type the object you're looking at actuall is. Thus, it's common to frequently use the `typeof()` command when working in Julia.\n",
    "\n",
    "Now let's use the Cascadia package to select the CSS tag we're interested in. A preliminary step in this process is to use [SelectorGadget](http://selectorgadget.com/) to find which CSS tag holds the data you're interested in scraping.\n",
    "\n",
    "In our case, we found that the CSS tag that holds all of the data we want is the \".short-desc\" tag."
   ]
  },
  {
   "cell_type": "code",
   "execution_count": 46,
   "metadata": {},
   "outputs": [
    {
     "name": "stdout",
     "output_type": "stream",
     "text": [
      "Array{Gumbo.HTMLNode,1}\n",
      "(180,)\n"
     ]
    }
   ],
   "source": [
    "allrecords = matchall(Selector(\".short-desc\"),webpage.root);\n",
    "println(typeof(allrecords))\n",
    "println(size(allrecords))"
   ]
  },
  {
   "cell_type": "markdown",
   "metadata": {},
   "source": [
    "So now we have an array of dimension 180 by 1 of records associated with the \".short-desc\" CSS tag. We can browse what the first one looks like:"
   ]
  },
  {
   "cell_type": "code",
   "execution_count": 47,
   "metadata": {},
   "outputs": [
    {
     "data": {
      "text/plain": [
       "Gumbo.HTMLElement{:span}:\n",
       "<span class=\"short-desc\">\n",
       "  <strong>\n",
       "    Jan. 21 \n",
       "  </strong>\n",
       "  “I wasn't a fan of Iraq. I didn't want to go into Iraq.”\n",
       "  <span class=\"short-truth\">\n",
       "    <a href=\"https://www.buzzfeed.com/andrewkaczynski/in-2002-donald-trump-said-he-supported-invading-iraq-on-the\"target=\"_blank\">\n",
       "      (He was for an invasion before he was against it.)\n",
       "    </a>\n",
       "  </span>\n",
       "</span>\n"
      ]
     },
     "execution_count": 47,
     "metadata": {},
     "output_type": "execute_result"
    }
   ],
   "source": [
    "allrecords[1]"
   ]
  },
  {
   "cell_type": "markdown",
   "metadata": {},
   "source": [
    "This looks a lot like what we want: it has the date the lie was said, the lying quote, a URL for the explanation of how it was a lie, as well as a short statement of the explanation. This is exactly what we wanted.\n",
    "\n",
    "## How Gumbo works: parent and children nodes\n",
    "Gumbo works a bit differently from other HTML parsers (e.g. `rvest` in R or `BeautifulSoup` in Python). Gumbo organizes the structure of the HTML file as a \"tree.\" Each node has parent nodes and children nodes.\n",
    "\n",
    "Once you get the hang of it, it's actually very straightforward to access the data you need. Let's start by looking again at the first record:"
   ]
  },
  {
   "cell_type": "code",
   "execution_count": 48,
   "metadata": {},
   "outputs": [
    {
     "name": "stdout",
     "output_type": "stream",
     "text": [
      "Symbol[:children, :parent, :attributes]\n",
      "Gumbo.HTMLNode[Gumbo.HTMLElement{:strong}:\n",
      "<strong>\n",
      "  Jan. 21 \n",
      "</strong>\n",
      ", HTML Text: “I wasn't a fan of Iraq. I didn't want to go into Iraq.” , Gumbo.HTMLElement{:span}:\n",
      "<span class=\"short-truth\">\n",
      "  <a href=\"https://www.buzzfeed.com/andrewkaczynski/in-2002-donald-trump-said-he-supported-invading-iraq-on-the\"target=\"_blank\">\n",
      "    (He was for an invasion before he was against it.)\n",
      "  </a>\n",
      "</span>\n",
      "]\n",
      "(3,)\n"
     ]
    }
   ],
   "source": [
    "firstrecord = allrecords[1]\n",
    "println(fieldnames(firstrecord))\n",
    "println(firstrecord.children)\n",
    "println(size(firstrecord.children))"
   ]
  },
  {
   "cell_type": "markdown",
   "metadata": {},
   "source": [
    "So we see that the fieldnames of `firstrecord` are `children`, `parent`, and `attributes`. We can show its children, which are:\n",
    "\n",
    "1. a node consisting of a `strong` HTML element (this is what the dates are surrounded by) \n",
    "2. a node containing some HTML text (the lie)\n",
    "3. a node consisting of a span tagged as \"short-truth\" \n",
    "\n",
    "We then verify that these three are the only \"children.\"\n",
    "\n",
    "### Accessing children\n",
    "To access children, we simply nest the indexing like so:"
   ]
  },
  {
   "cell_type": "code",
   "execution_count": 49,
   "metadata": {},
   "outputs": [
    {
     "data": {
      "text/plain": [
       "Gumbo.HTMLElement{:strong}:\n",
       "<strong>\n",
       "  Jan. 21 \n",
       "</strong>\n"
      ]
     },
     "execution_count": 49,
     "metadata": {},
     "output_type": "execute_result"
    }
   ],
   "source": [
    "firstrecord[1]"
   ]
  },
  {
   "cell_type": "markdown",
   "metadata": {},
   "source": [
    "So the first child of `firstrecord` is the date, surrounded by a `strong` HTML tag.\n",
    "\n",
    "### Converting HTMLElements to strings or numbers\n",
    "So how can we extract the date from this element? The function we need (from the Gumbo package) is `nodeText()`:\n",
    "\n",
    "#### Extracting the Date"
   ]
  },
  {
   "cell_type": "code",
   "execution_count": 50,
   "metadata": {},
   "outputs": [
    {
     "data": {
      "text/plain": [
       "\"Jan. 21 \""
      ]
     },
     "execution_count": 50,
     "metadata": {},
     "output_type": "execute_result"
    }
   ],
   "source": [
    "nodeText(firstrecord[1])"
   ]
  },
  {
   "cell_type": "markdown",
   "metadata": {},
   "source": [
    "Bingo! That's exactly what we need. \n",
    "\n",
    "#### Extracting the Lie\n",
    "Now let's extract the lie:"
   ]
  },
  {
   "cell_type": "code",
   "execution_count": 51,
   "metadata": {},
   "outputs": [
    {
     "data": {
      "text/plain": [
       "\"“I wasn't a fan of Iraq. I didn't want to go into Iraq.” \""
      ]
     },
     "execution_count": 51,
     "metadata": {},
     "output_type": "execute_result"
    }
   ],
   "source": [
    "nodeText(firstrecord[2])"
   ]
  },
  {
   "cell_type": "markdown",
   "metadata": {},
   "source": [
    "Aside from a trailing space (same with the date) and some funky Unicode quotation marks, this looks good!\n",
    "\n",
    "Now let's tackle the third child. This one has our two remaining elements of interest (the link explanation, as well as the explanation itself) lumped together:"
   ]
  },
  {
   "cell_type": "code",
   "execution_count": 52,
   "metadata": {},
   "outputs": [
    {
     "data": {
      "text/plain": [
       "Gumbo.HTMLElement{:span}:\n",
       "<span class=\"short-truth\">\n",
       "  <a href=\"https://www.buzzfeed.com/andrewkaczynski/in-2002-donald-trump-said-he-supported-invading-iraq-on-the\"target=\"_blank\">\n",
       "    (He was for an invasion before he was against it.)\n",
       "  </a>\n",
       "</span>\n"
      ]
     },
     "execution_count": 52,
     "metadata": {},
     "output_type": "execute_result"
    }
   ],
   "source": [
    "firstrecord[3]"
   ]
  },
  {
   "cell_type": "markdown",
   "metadata": {},
   "source": [
    "But recall that our `firstrecord` is just a tree with parent and child nodes! Let's check to see if the third child of `firstrecord` has any children itself:"
   ]
  },
  {
   "cell_type": "code",
   "execution_count": 53,
   "metadata": {},
   "outputs": [
    {
     "name": "stdout",
     "output_type": "stream",
     "text": [
      "Gumbo.HTMLNode[Gumbo.HTMLElement{:a}:\n",
      "<a href=\"https://www.buzzfeed.com/andrewkaczynski/in-2002-donald-trump-said-he-supported-invading-iraq-on-the\"target=\"_blank\">\n",
      "  (He was for an invasion before he was against it.)\n",
      "</a>\n",
      "]\n",
      "<a href=\"https://www.buzzfeed.com/andrewkaczynski/in-2002-donald-trump-said-he-supported-invading-iraq-on-the\"target=\"_blank\">(He was for an invasion before he was against it.)</a>"
     ]
    }
   ],
   "source": [
    "println(firstrecord[3].children)\n",
    "println(firstrecord[3][1])"
   ]
  },
  {
   "cell_type": "markdown",
   "metadata": {},
   "source": [
    "It looks like it doesn't, but it does have the text we are interested in nested within the HTML `<a>` tag, and the URL we are interested nested in the `href` attribute of the `<a>` tag.\n",
    "\n",
    "### Accessing HTML attributes\n",
    "The way to access what's in an HTML attribute is to use the `attributes` field of the child:"
   ]
  },
  {
   "cell_type": "code",
   "execution_count": 54,
   "metadata": {},
   "outputs": [
    {
     "data": {
      "text/plain": [
       "Dict{AbstractString,AbstractString} with 2 entries:\n",
       "  \"href\"   => \"https://www.buzzfeed.com/andrewkaczynski/in-2002-donald-trump-sa…\n",
       "  \"target\" => \"_blank\""
      ]
     },
     "execution_count": 54,
     "metadata": {},
     "output_type": "execute_result"
    }
   ],
   "source": [
    "firstrecord[3][1].attributes"
   ]
  },
  {
   "cell_type": "markdown",
   "metadata": {},
   "source": [
    "The attribute field of every node may contain data we're interested in. In this case, we want the `\"href\"` which is the URL we'd like. Note that attributes is a dictionary, so all we need to do is index by the key.\n",
    "\n",
    "#### Extracting the URL"
   ]
  },
  {
   "cell_type": "code",
   "execution_count": 55,
   "metadata": {},
   "outputs": [
    {
     "name": "stdout",
     "output_type": "stream",
     "text": [
      "https://www.buzzfeed.com/andrewkaczynski/in-2002-donald-trump-said-he-supported-invading-iraq-on-the\n",
      "String\n"
     ]
    }
   ],
   "source": [
    "println(firstrecord[3][1].attributes[\"href\"])\n",
    "println(typeof(firstrecord[3][1].attributes[\"href\"]))\n",
    "url = firstrecord[3][1].attributes[\"href\"];"
   ]
  },
  {
   "cell_type": "markdown",
   "metadata": {},
   "source": [
    "So this gives us the string that contains the URL.\n",
    "\n",
    "#### Extracting the explanation\n",
    "To extract the explanation, it turns out that all we need to do is repeat the process for the date and lie:"
   ]
  },
  {
   "cell_type": "code",
   "execution_count": 56,
   "metadata": {},
   "outputs": [
    {
     "name": "stdout",
     "output_type": "stream",
     "text": [
      "(He was for an invasion before he was against it.)\n"
     ]
    }
   ],
   "source": [
    "println(nodeText(firstrecord[3][1]))"
   ]
  },
  {
   "cell_type": "markdown",
   "metadata": {},
   "source": [
    "## Cleaning up the text and putting it all together in a loop\n",
    "Now we've got all of the elements we need, but we do need to clean things up just a bit since there were Unicode quotation marks as well as trailing spaces and extraneous parentheses in each of our objects.\n",
    "\n",
    "### Adding 2017 to the dates\n",
    "To concatenate two strings in Julia, we can use the `*` operator. Note that we also want to remove the trailing space, so we can execute the following code:"
   ]
  },
  {
   "cell_type": "code",
   "execution_count": 57,
   "metadata": {},
   "outputs": [
    {
     "data": {
      "text/plain": [
       "\"Jan. 21, 2017\""
      ]
     },
     "execution_count": 57,
     "metadata": {},
     "output_type": "execute_result"
    }
   ],
   "source": [
    "date = nodeText(firstrecord[1])\n",
    "date = date[1:end-1]*\", 2017\""
   ]
  },
  {
   "cell_type": "markdown",
   "metadata": {},
   "source": [
    "That gives us the format that we're looking for. \n",
    "\n",
    "### Dates in Julia\n",
    "To convert a string date like `\"Jan. 21, 2017\"` to a date format, we need to use the `Date()` function in the following way:"
   ]
  },
  {
   "cell_type": "code",
   "execution_count": 58,
   "metadata": {},
   "outputs": [
    {
     "data": {
      "text/plain": [
       "2017-01-21"
      ]
     },
     "execution_count": 58,
     "metadata": {},
     "output_type": "execute_result"
    }
   ],
   "source": [
    "date = Date(date, \"u. d, y\")"
   ]
  },
  {
   "cell_type": "markdown",
   "metadata": {},
   "source": [
    "The first argument of the `Date()` function is the string that needs to be converted; while the second argument is the format of that string. `u` refers to abbreviated month (while `U` would be the full month name, like \"January\"). `d` and `y` are self-explanatory, but it's crucial to have the comma there so that the `Date()` function knows where to find the elements it needs.\n",
    "\n"
   ]
  },
  {
   "cell_type": "code",
   "execution_count": 59,
   "metadata": {},
   "outputs": [
    {
     "data": {
      "text/plain": [
       "\"Jan. 21, 2017\""
      ]
     },
     "execution_count": 59,
     "metadata": {},
     "output_type": "execute_result"
    }
   ],
   "source": [
    "date = nodeText(allrecords[1][1])[1:end-1]*\", 2017\""
   ]
  },
  {
   "cell_type": "markdown",
   "metadata": {},
   "source": [
    "### String operations\n",
    "The common operations we will use in this example are `[1:end-1]` (which trims the last character of a string) and the `replace(var,string1,string2)` function, which replaces `string1` in variable `var` with `string2`:"
   ]
  },
  {
   "cell_type": "code",
   "execution_count": 60,
   "metadata": {},
   "outputs": [
    {
     "data": {
      "text/plain": [
       "\"I wasn't a fan of Iraq. I didn't want to go into Iraq.\""
      ]
     },
     "execution_count": 60,
     "metadata": {},
     "output_type": "execute_result"
    }
   ],
   "source": [
    "lie = nodeText(firstrecord[2])[1:end-1]\n",
    "x = lie[1]\n",
    "y = lie[end]\n",
    "lie = replace(lie,x,\"\")\n",
    "lie = replace(lie,y,\"\")\n",
    "lie"
   ]
  },
  {
   "cell_type": "code",
   "execution_count": 61,
   "metadata": {},
   "outputs": [
    {
     "data": {
      "text/plain": [
       "\"He was for an invasion before he was against it.\""
      ]
     },
     "execution_count": 61,
     "metadata": {},
     "output_type": "execute_result"
    }
   ],
   "source": [
    "explanation = nodeText(firstrecord[3])\n",
    "explanation = replace(explanation,\"(\",\"\")\n",
    "explanation = replace(explanation,\")\",\"\")"
   ]
  },
  {
   "cell_type": "markdown",
   "metadata": {},
   "source": [
    "### Concatenating data frames\n",
    "Now that we have all of the string operations required to clean the text data, all we need to do is store each of the elements of interest in a data frame, and then concatenate the data frames together.\n",
    "\n",
    "To start, we need to initialize an empty dataframe:"
   ]
  },
  {
   "cell_type": "code",
   "execution_count": 62,
   "metadata": {},
   "outputs": [
    {
     "data": {
      "text/html": [
       "<table class=\"data-frame\"><thead><tr><th></th><th>date</th><th>lie</th><th>explanation</th><th>url</th></tr></thead><tbody></tbody></table>"
      ],
      "text/plain": [
       "0×4 DataFrames.DataFrame\n"
      ]
     },
     "execution_count": 62,
     "metadata": {},
     "output_type": "execute_result"
    }
   ],
   "source": [
    "df = DataFrame(date=DateTime[], lie=String[], explanation=String[], url=String[])"
   ]
  },
  {
   "cell_type": "markdown",
   "metadata": {},
   "source": [
    "Then, we can create a temporary data frame containing `firstrecord`'s data and concatenate them together:"
   ]
  },
  {
   "cell_type": "code",
   "execution_count": 63,
   "metadata": {},
   "outputs": [
    {
     "data": {
      "text/html": [
       "<table class=\"data-frame\"><thead><tr><th></th><th>date</th><th>lie</th><th>explanation</th><th>url</th></tr></thead><tbody><tr><th>1</th><td>Jan. 21, 2017</td><td>I wasn't a fan of Iraq. I didn't want to go into Iraq.</td><td>He was for an invasion before he was against it.</td><td>https://www.buzzfeed.com/andrewkaczynski/in-2002-donald-trump-said-he-supported-invading-iraq-on-the</td></tr></tbody></table>"
      ],
      "text/plain": [
       "1×4 DataFrames.DataFrame\n",
       "│ Row │ date            │\n",
       "├─────┼─────────────────┤\n",
       "│ 1   │ \"Jan. 21, 2017\" │\n",
       "\n",
       "│ Row │ lie                                                      │\n",
       "├─────┼──────────────────────────────────────────────────────────┤\n",
       "│ 1   │ \"I wasn't a fan of Iraq. I didn't want to go into Iraq.\" │\n",
       "\n",
       "│ Row │ explanation                                        │\n",
       "├─────┼────────────────────────────────────────────────────┤\n",
       "│ 1   │ \"He was for an invasion before he was against it.\" │\n",
       "\n",
       "│ Row │ url                                                                                                    │\n",
       "├─────┼────────────────────────────────────────────────────────────────────────────────────────────────────────┤\n",
       "│ 1   │ \"https://www.buzzfeed.com/andrewkaczynski/in-2002-donald-trump-said-he-supported-invading-iraq-on-the\" │"
      ]
     },
     "execution_count": 63,
     "metadata": {},
     "output_type": "execute_result"
    }
   ],
   "source": [
    "temp = DataFrame(date=date, lie=lie, explanation=explanation, url=url)\n",
    "df = [df; temp]"
   ]
  },
  {
   "cell_type": "markdown",
   "metadata": {},
   "source": [
    "## Putting it all together in a loop and exporting to CSV\n",
    "The remaining task is to, instead of referencing `firstrecord`, to loop through all of the records and then add to the end of the data frame at each concatenation.\n",
    "\n",
    "Once the complete data frame is created, then we can export to CSV.\n",
    "\n",
    "The full code is below:"
   ]
  },
  {
   "cell_type": "code",
   "execution_count": 64,
   "metadata": {},
   "outputs": [
    {
     "data": {
      "text/html": [
       "<table class=\"data-frame\"><thead><tr><th></th><th>date</th><th>lie</th><th>explanation</th><th>url</th></tr></thead><tbody><tr><th>1</th><td>2017-01-21T00:00:00</td><td>I wasn't a fan of Iraq. I didn't want to go into Iraq.</td><td>He was for an invasion before he was against it.</td><td>https://www.buzzfeed.com/andrewkaczynski/in-2002-donald-trump-said-he-supported-invading-iraq-on-the</td></tr><tr><th>2</th><td>2017-01-21T00:00:00</td><td>A reporter for Time magazine — and I have been on their cover 14 or 15 times. I think we have the all-time record in the history of Time magazine.</td><td>Trump was on the cover 11 times and Nixon appeared 55 times.</td><td>http://nation.time.com/2013/11/06/10-things-you-didnt-know-about-time/</td></tr><tr><th>3</th><td>2017-01-23T00:00:00</td><td>Between 3 million and 5 million illegal votes caused me to lose the popular vote.</td><td>There's no evidence of illegal voting.</td><td>https://www.nytimes.com/2017/01/23/us/politics/donald-trump-congress-democrats.html</td></tr><tr><th>4</th><td>2017-01-25T00:00:00</td><td>Now, the audience was the biggest ever. But this crowd was massive. Look how far back it goes. This crowd was massive.</td><td>Official aerial photos show Obama's 2009 inauguration was much more heavily attended.</td><td>https://www.nytimes.com/2017/01/21/us/politics/trump-white-house-briefing-inauguration-crowd-size.html</td></tr><tr><th>5</th><td>2017-01-25T00:00:00</td><td>Take a look at the Pew reports (which show voter fraud.)</td><td>The report never mentioned voter fraud.</td><td>https://www.nytimes.com/2017/01/24/us/politics/unauthorized-immigrant-voting-trump-lie.html</td></tr><tr><th>6</th><td>2017-01-25T00:00:00</td><td>You had millions of people that now aren't insured anymore.</td><td>The real number is less than 1 million, according to the Urban Institute.</td><td>https://www.nytimes.com/2017/03/13/us/politics/fact-check-trump-obamacare-health-care.html</td></tr></tbody></table>"
      ],
      "text/plain": [
       "6×4 DataFrames.DataFrame\n",
       "│ Row │ date                │\n",
       "├─────┼─────────────────────┤\n",
       "│ 1   │ 2017-01-21T00:00:00 │\n",
       "│ 2   │ 2017-01-21T00:00:00 │\n",
       "│ 3   │ 2017-01-23T00:00:00 │\n",
       "│ 4   │ 2017-01-25T00:00:00 │\n",
       "│ 5   │ 2017-01-25T00:00:00 │\n",
       "│ 6   │ 2017-01-25T00:00:00 │\n",
       "\n",
       "│ Row │ lie                                                                                                                                                  │\n",
       "├─────┼──────────────────────────────────────────────────────────────────────────────────────────────────────────────────────────────────────────────────────┤\n",
       "│ 1   │ \"I wasn't a fan of Iraq. I didn't want to go into Iraq.\"                                                                                             │\n",
       "│ 2   │ \"A reporter for Time magazine — and I have been on their cover 14 or 15 times. I think we have the all-time record in the history of Time magazine.\" │\n",
       "│ 3   │ \"Between 3 million and 5 million illegal votes caused me to lose the popular vote.\"                                                                  │\n",
       "│ 4   │ \"Now, the audience was the biggest ever. But this crowd was massive. Look how far back it goes. This crowd was massive.\"                             │\n",
       "│ 5   │ \"Take a look at the Pew reports (which show voter fraud.)\"                                                                                           │\n",
       "│ 6   │ \"You had millions of people that now aren't insured anymore.\"                                                                                        │\n",
       "\n",
       "│ Row │ explanation                                                                             │\n",
       "├─────┼─────────────────────────────────────────────────────────────────────────────────────────┤\n",
       "│ 1   │ \"He was for an invasion before he was against it.\"                                      │\n",
       "│ 2   │ \"Trump was on the cover 11 times and Nixon appeared 55 times.\"                          │\n",
       "│ 3   │ \"There's no evidence of illegal voting.\"                                                │\n",
       "│ 4   │ \"Official aerial photos show Obama's 2009 inauguration was much more heavily attended.\" │\n",
       "│ 5   │ \"The report never mentioned voter fraud.\"                                               │\n",
       "│ 6   │ \"The real number is less than 1 million, according to the Urban Institute.\"             │\n",
       "\n",
       "│ Row │ url                                                                                                      │\n",
       "├─────┼──────────────────────────────────────────────────────────────────────────────────────────────────────────┤\n",
       "│ 1   │ \"https://www.buzzfeed.com/andrewkaczynski/in-2002-donald-trump-said-he-supported-invading-iraq-on-the\"   │\n",
       "│ 2   │ \"http://nation.time.com/2013/11/06/10-things-you-didnt-know-about-time/\"                                 │\n",
       "│ 3   │ \"https://www.nytimes.com/2017/01/23/us/politics/donald-trump-congress-democrats.html\"                    │\n",
       "│ 4   │ \"https://www.nytimes.com/2017/01/21/us/politics/trump-white-house-briefing-inauguration-crowd-size.html\" │\n",
       "│ 5   │ \"https://www.nytimes.com/2017/01/24/us/politics/unauthorized-immigrant-voting-trump-lie.html\"            │\n",
       "│ 6   │ \"https://www.nytimes.com/2017/03/13/us/politics/fact-check-trump-obamacare-health-care.html\"             │"
      ]
     },
     "execution_count": 64,
     "metadata": {},
     "output_type": "execute_result"
    }
   ],
   "source": [
    "using Cascadia\n",
    "using Gumbo\n",
    "using Requests\n",
    "using DataFrames\n",
    "\n",
    "r = get(\"https://www.nytimes.com/interactive/2017/06/23/opinion/trumps-lies.html\")\n",
    "webpage = parsehtml(convert(String, r.data))\n",
    "\n",
    "allrecords = matchall(Selector(\".short-desc\"),webpage.root)\n",
    "\n",
    "df = DataFrame(date=DateTime[], lie=String[], explanation=String[], url=String[])\n",
    "\n",
    "for q = 1:size(allrecords,1)\n",
    "    # Step 1: extract date and convert to DateTime format\n",
    "    date = nodeText(allrecords[q][1])[1:end-1]*\", 2017\"\n",
    "    date = replace(date, \"Sept.\", \"Sep.\")\n",
    "    date = try Date(date, \"u. d, y\") catch Date(date, \"U d, y\") end\n",
    "\n",
    "    # Step 2: extract lie\n",
    "    lie = nodeText(allrecords[q][2])[1:end-1]\n",
    "    x = lie[1]\n",
    "    y = lie[end]\n",
    "    lie = replace(lie,x,\"\")\n",
    "    lie = replace(lie,y,\"\")\n",
    "\n",
    "    # Step 3: extract the explanation\n",
    "    explanation = nodeText(allrecords[q][3])\n",
    "    explanation = replace(explanation,\"(\",\"\")\n",
    "    explanation = replace(explanation,\")\",\"\")\n",
    "\n",
    "    # Step 4: extract the URL\n",
    "    url = allrecords[q][3][1].attributes[\"href\"]\n",
    "\n",
    "    # Step 5: put all together in a dataframe\n",
    "    temp = DataFrame(date=date, lie=lie, explanation=explanation, url=url)\n",
    "    df = [df; temp]\n",
    "end\n",
    "\n",
    "# Export the dataframe to a CSV\n",
    "writetable(\"trumpLies.csv\", df)\n",
    "\n",
    "head(df)"
   ]
  }
 ],
 "metadata": {
  "kernelspec": {
   "display_name": "Julia 0.6.0",
   "language": "julia",
   "name": "julia-0.6"
  },
  "language_info": {
   "file_extension": ".jl",
   "mimetype": "application/julia",
   "name": "julia",
   "version": "0.6.0"
  }
 },
 "nbformat": 4,
 "nbformat_minor": 2
}
